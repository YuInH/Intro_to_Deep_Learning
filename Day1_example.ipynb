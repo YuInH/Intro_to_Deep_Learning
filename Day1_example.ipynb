import tensorflow as tf
from tensorflow import keras

(train_imgs, train_labels), (test_imgs, test_labels) = keras.datasets.mnist.load_data()

#
model = keras.Sequential([
      keras.layers.Flatten(input_shape=(28, 28)),
      keras.layers.Dense(128, activation=tf.nn.relu),
      keras.layers.Dense(10, activation=tf.nn.softmax)
])

model.compile(optimizer=tf.optimizers.Adam(),
              loss='sparse_categorical_crossentropy',
              metrics=['accuracy']
              )

model.fit(train_imgs, train_labels, epochs=5)

test_loss, test_acc = model.evaluate(test_imgs, test_labels)
print('test accuracy:', test_acc)


prediction = model.predict(test_imgs)
