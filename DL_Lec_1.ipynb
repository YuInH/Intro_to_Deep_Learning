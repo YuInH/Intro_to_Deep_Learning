{
  "nbformat": 4,
  "nbformat_minor": 0,
  "metadata": {
    "colab": {
      "provenance": []
    },
    "kernelspec": {
      "name": "python3",
      "display_name": "Python 3"
    },
    "language_info": {
      "name": "python"
    }
  },
  "cells": [
    {
      "cell_type": "code",
      "execution_count": 8,
      "metadata": {
        "colab": {
          "base_uri": "https://localhost:8080/"
        },
        "id": "0DBpd6z9wcEn",
        "outputId": "ff07d777-42ed-4550-c2a6-e55768e9889a"
      },
      "outputs": [
        {
          "output_type": "stream",
          "name": "stdout",
          "text": [
            "Epoch 1/5\n",
            "1875/1875 [==============================] - 6s 3ms/step - loss: 2.5380 - accuracy: 0.8620\n",
            "Epoch 2/5\n",
            "1875/1875 [==============================] - 6s 3ms/step - loss: 0.3997 - accuracy: 0.9086\n",
            "Epoch 3/5\n",
            "1875/1875 [==============================] - 6s 3ms/step - loss: 0.2947 - accuracy: 0.9277\n",
            "Epoch 4/5\n",
            "1875/1875 [==============================] - 6s 3ms/step - loss: 0.2450 - accuracy: 0.9383\n",
            "Epoch 5/5\n",
            "1875/1875 [==============================] - 6s 3ms/step - loss: 0.2342 - accuracy: 0.9427\n",
            "313/313 [==============================] - 1s 2ms/step - loss: 0.2920 - accuracy: 0.9346\n",
            "test accuracy: 0.9345999956130981\n",
            "313/313 [==============================] - 1s 2ms/step\n"
          ]
        }
      ],
      "source": [
        "import tensorflow as tf\n",
        "from tensorflow import keras\n",
        "\n",
        "(train_imgs, train_labels), (test_imgs, test_labels) = keras.datasets.mnist.load_data()\n",
        "\n",
        "#\n",
        "model = keras.Sequential([\n",
        "      keras.layers.Flatten(input_shape=(28, 28)),\n",
        "      keras.layers.Dense(128, activation=tf.nn.relu),\n",
        "      keras.layers.Dense(10, activation=tf.nn.softmax)\n",
        "])\n",
        "\n",
        "model.compile(optimizer=tf.optimizers.Adam(),\n",
        "              loss='sparse_categorical_crossentropy',\n",
        "              metrics=['accuracy']\n",
        "              )\n",
        "\n",
        "model.fit(train_imgs, train_labels, epochs=5)\n",
        "\n",
        "test_loss, test_acc = model.evaluate(test_imgs, test_labels)\n",
        "print('test accuracy:', test_acc)\n",
        "\n",
        "\n",
        "prediction = model.predict(test_imgs)"
      ]
    }
  ]
}